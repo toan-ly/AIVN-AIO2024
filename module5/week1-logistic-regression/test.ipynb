{
 "cells": [
  {
   "cell_type": "code",
   "execution_count": 1,
   "metadata": {},
   "outputs": [
    {
     "data": {
      "text/plain": [
       "array([0.92988994])"
      ]
     },
     "execution_count": 1,
     "metadata": {},
     "output_type": "execute_result"
    }
   ],
   "source": [
    "import numpy as np\n",
    "from logistic_regression_funcs import *\n",
    "\n",
    "X = [[22.3, -1.5, 1.1, 1]]\n",
    "theta = [0.1, -0.15, 0.3, -0.2]\n",
    "predict(X, theta)"
   ]
  },
  {
   "cell_type": "code",
   "execution_count": 2,
   "metadata": {},
   "outputs": [
    {
     "data": {
      "text/plain": [
       "0.5043515376900958"
      ]
     },
     "execution_count": 2,
     "metadata": {},
     "output_type": "execute_result"
    }
   ],
   "source": [
    "y = np.array([1, 0, 0, 1])\n",
    "y_hat = np.array([0.8, 0.75, 0.3, 0.95])\n",
    "compute_loss(y_hat, y)"
   ]
  },
  {
   "cell_type": "code",
   "execution_count": 5,
   "metadata": {},
   "outputs": [
    {
     "data": {
      "text/plain": [
       "array([-0.0625,  0.0625])"
      ]
     },
     "execution_count": 5,
     "metadata": {},
     "output_type": "execute_result"
    }
   ],
   "source": [
    "X = np.array([[1, 2], [2, 1], [1, 1], [2, 2]])\n",
    "y = np.array([0, 1, 0, 1])\n",
    "y_hat = np.array([0.25, 0.75, 0.4, 0.8])\n",
    "compute_gradient(X, y, y_hat)"
   ]
  },
  {
   "cell_type": "code",
   "execution_count": 7,
   "metadata": {},
   "outputs": [
    {
     "data": {
      "text/plain": [
       "1.0"
      ]
     },
     "execution_count": 7,
     "metadata": {},
     "output_type": "execute_result"
    }
   ],
   "source": [
    "y = [1, 0, 1, 1]\n",
    "y_hat = [0.85, 0.35, 0.9, 0.75]\n",
    "\n",
    "def compute_accuracy(y, y_hat):\n",
    "    return np.mean(np.round(y_hat) == y)\n",
    "\n",
    "compute_accuracy(y, y_hat)"
   ]
  },
  {
   "cell_type": "code",
   "execution_count": 9,
   "metadata": {},
   "outputs": [
    {
     "data": {
      "text/plain": [
       "array([-0.2125, -0.4   ])"
      ]
     },
     "execution_count": 9,
     "metadata": {},
     "output_type": "execute_result"
    }
   ],
   "source": [
    "X = np.array([[1, 3], [2, 1], [3, 2], [1, 2]])\n",
    "y = np.array([1, 0, 1, 1])\n",
    "y_hat = np.array([0.7, 0.4, 0.6, 0.85])\n",
    "compute_gradient(X, y, y_hat)\n"
   ]
  }
 ],
 "metadata": {
  "kernelspec": {
   "display_name": "aio2024_env",
   "language": "python",
   "name": "python3"
  },
  "language_info": {
   "codemirror_mode": {
    "name": "ipython",
    "version": 3
   },
   "file_extension": ".py",
   "mimetype": "text/x-python",
   "name": "python",
   "nbconvert_exporter": "python",
   "pygments_lexer": "ipython3",
   "version": "3.10.14"
  }
 },
 "nbformat": 4,
 "nbformat_minor": 2
}

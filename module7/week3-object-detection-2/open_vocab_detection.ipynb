{
  "cells": [
    {
      "cell_type": "code",
      "execution_count": null,
      "metadata": {
        "colab": {
          "base_uri": "https://localhost:8080/"
        },
        "collapsed": true,
        "id": "av8I_aWGnHcn",
        "outputId": "40521705-5790-49b3-ec8b-496f846b21b4"
      },
      "outputs": [],
      "source": [
        "!pip install ultralytics"
      ]
    },
    {
      "cell_type": "code",
      "execution_count": 9,
      "metadata": {
        "id": "VgImMgfK6AUM"
      },
      "outputs": [],
      "source": [
        "from ultralytics import YOLOWorld\n",
        "from ultralytics.engine.results import Boxes\n",
        "import uuid\n",
        "import cv2\n",
        "from pathlib import Path"
      ]
    },
    {
      "cell_type": "code",
      "execution_count": 4,
      "metadata": {
        "id": "wtcYJx376Rma"
      },
      "outputs": [],
      "source": [
        "def save_detection_results(results: Boxes) -> list[str]:\n",
        "    \"\"\"\n",
        "    Save detection results as images if detections were found.\n",
        "\n",
        "    :param results: Detection results from YOLO model prediction, containing bounding boxes and other metadata\n",
        "    :return: List of paths where annotated images were saved as strings\n",
        "    \"\"\"\n",
        "    # Initialize empty list to store paths of saved images\n",
        "    saved_paths = []\n",
        "\n",
        "    # Iterate through each detection result\n",
        "    for i, result in enumerate(results):\n",
        "        # Check if any detections were made by looking at number of bounding boxes\n",
        "        if len(result.boxes) > 0:\n",
        "            # Plot the detection results with bounding boxes and labels on the image\n",
        "            annotated_image = result.plot()\n",
        "\n",
        "            # Generate unique filename using UUID to avoid overwrites\n",
        "            output_path = f\"./run/img_{uuid.uuid4()}.jpg\"\n",
        "\n",
        "            # Save the annotated image to disk using OpenCV\n",
        "            cv2.imwrite(output_path, annotated_image)\n",
        "\n",
        "            # Get absolute path and convert to string for consistency\n",
        "            saved_path = Path(output_path).resolve()\n",
        "            print(f\"Image saved to {saved_path}\")\n",
        "            saved_paths.append(str(saved_path))\n",
        "\n",
        "    return saved_paths"
      ]
    },
    {
      "cell_type": "code",
      "execution_count": 11,
      "metadata": {
        "colab": {
          "base_uri": "https://localhost:8080/"
        },
        "id": "UfUpx4NY6Ekq",
        "outputId": "e923bf2c-accf-434c-8d2a-39d57448d37f"
      },
      "outputs": [
        {
          "name": "stdout",
          "output_type": "stream",
          "text": [
            "\n",
            "image 1/1 /content/bus.jpg: 640x480 1 bus, 581.3ms\n",
            "Speed: 6.7ms preprocess, 581.3ms inference, 1.3ms postprocess per image at shape (1, 3, 640, 480)\n",
            "Image saved to /content/run/img_a72a6083-f324-4646-b1d3-4909cd9df808.jpg\n"
          ]
        },
        {
          "data": {
            "text/plain": [
              "['/content/run/img_a72a6083-f324-4646-b1d3-4909cd9df808.jpg']"
            ]
          },
          "execution_count": 11,
          "metadata": {},
          "output_type": "execute_result"
        }
      ],
      "source": [
        "model = YOLOWorld(\"yolov8s-world.pt\")\n",
        "model.set_classes([\"bus\"])  \n",
        "\n",
        "results: Boxes = model.predict(\"bus.jpg\")\n",
        "save_detection_results(results)"
      ]
    }
  ],
  "metadata": {
    "colab": {
      "provenance": []
    },
    "kernelspec": {
      "display_name": "Python 3",
      "name": "python3"
    },
    "language_info": {
      "name": "python"
    }
  },
  "nbformat": 4,
  "nbformat_minor": 0
}

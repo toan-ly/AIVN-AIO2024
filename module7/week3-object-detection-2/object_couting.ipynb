{
  "cells": [
    {
      "cell_type": "code",
      "execution_count": null,
      "metadata": {
        "colab": {
          "base_uri": "https://localhost:8080/"
        },
        "id": "8CCuOKVZUP1L",
        "outputId": "43372388-8eda-4f12-9e39-f5f909a8c6d9"
      },
      "outputs": [],
      "source": [
        "!pip install ultralytics"
      ]
    },
    {
      "cell_type": "code",
      "execution_count": null,
      "metadata": {
        "colab": {
          "base_uri": "https://localhost:8080/"
        },
        "id": "390WTUo7WKqQ",
        "outputId": "a816c1bf-7952-40ff-d4de-fd4bb67824f6"
      },
      "outputs": [],
      "source": [
        "import cv2\n",
        "from ultralytics import solutions"
      ]
    },
    {
      "cell_type": "code",
      "execution_count": 4,
      "metadata": {
        "id": "btSNmX6mWW--"
      },
      "outputs": [],
      "source": [
        "cap = cv2.VideoCapture(\"highway.mp4\")\n",
        "assert cap.isOpened(), \"Error reading video file\"\n",
        "w, h, fps = (\n",
        "    int(cap.get(x))\n",
        "    for x in (cv2.CAP_PROP_FRAME_WIDTH, cv2.CAP_PROP_FRAME_HEIGHT, cv2.CAP_PROP_FPS)\n",
        ")"
      ]
    },
    {
      "cell_type": "code",
      "execution_count": 5,
      "metadata": {
        "id": "tBwrd_-CWmQ7"
      },
      "outputs": [],
      "source": [
        "# Define region points\n",
        "# region_points = [(20 , 400) , (1080 , 400) ] # For line counting\n",
        "region_points = [\n",
        "    (430, 700),\n",
        "    (1600, 700),\n",
        "    (1600, 1080),\n",
        "    (430, 1080)\n",
        "] # For rectangle region counting : top left , top right , bottom right , bottom left"
      ]
    },
    {
      "cell_type": "code",
      "execution_count": 6,
      "metadata": {
        "id": "Iw4H4mKUXsjV"
      },
      "outputs": [],
      "source": [
        "# Video writer\n",
        "video_writer = cv2.VideoWriter(\n",
        "    \"./run/highway_counted.mp4\", cv2.VideoWriter_fourcc(*\"mp4v\"), fps, (w, h)\n",
        ")"
      ]
    },
    {
      "cell_type": "code",
      "execution_count": 7,
      "metadata": {
        "colab": {
          "base_uri": "https://localhost:8080/"
        },
        "id": "CH6YXREWYBGE",
        "outputId": "f3445f17-83d6-4305-afe4-37352436f6a9"
      },
      "outputs": [
        {
          "name": "stdout",
          "output_type": "stream",
          "text": [
            "Ultralytics Solutions: ✅ {'region': [(430, 700), (1600, 700), (1600, 1080), (430, 1080)], 'show_in': True, 'show_out': True, 'colormap': None, 'up_angle': 145.0, 'down_angle': 90, 'kpts': [6, 8, 10], 'analytics_type': 'line', 'json_file': None, 'records': 5, 'show': False, 'model': 'yolo11x.pt'}\n",
            "Downloading https://github.com/ultralytics/assets/releases/download/v8.3.0/yolo11x.pt to 'yolo11x.pt'...\n"
          ]
        },
        {
          "name": "stderr",
          "output_type": "stream",
          "text": [
            "100%|██████████| 109M/109M [00:01<00:00, 109MB/s]\n"
          ]
        },
        {
          "name": "stdout",
          "output_type": "stream",
          "text": [
            "WARNING ⚠️ Environment does not support cv2.imshow() or PIL Image.show()\n",
            "\n"
          ]
        }
      ],
      "source": [
        "# Init ObjectCounter\n",
        "counter = solutions.ObjectCounter(\n",
        "    show=False,  # Display the output\n",
        "    region=region_points,  # Pass region points\n",
        "    model=\"yolo11x.pt\",  # model=\"yolo11n-obb.pt\" for object counting using YOLO11 OBB model.\n",
        ")"
      ]
    },
    {
      "cell_type": "code",
      "execution_count": null,
      "metadata": {
        "colab": {
          "base_uri": "https://localhost:8080/"
        },
        "id": "blcfE4_FYFp7",
        "outputId": "8752adff-cc49-4da8-c8b5-37d3ea5bc529"
      },
      "outputs": [],
      "source": [
        "while cap.isOpened():\n",
        "    success, im0 = cap.read()\n",
        "\n",
        "    if not success:\n",
        "        print(\"Video frame is empty or video processing has been successfully completed.\")\n",
        "        break\n",
        "\n",
        "    # Perform object counting\n",
        "    im0 = counter.count(im0)\n",
        "    video_writer.write(im0)\n",
        "\n",
        "# Release resources\n",
        "cap.release()\n",
        "video_writer.release()\n",
        "cv2.destroyAllWindows()"
      ]
    }
  ],
  "metadata": {
    "colab": {
      "provenance": []
    },
    "kernelspec": {
      "display_name": "Python 3",
      "name": "python3"
    },
    "language_info": {
      "name": "python"
    }
  },
  "nbformat": 4,
  "nbformat_minor": 0
}

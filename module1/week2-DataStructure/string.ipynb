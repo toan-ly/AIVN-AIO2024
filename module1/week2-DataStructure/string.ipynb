{
  "cells": [
    {
      "cell_type": "code",
      "execution_count": 2,
      "metadata": {},
      "outputs": [],
      "source": [
        "def character_count(word):\n",
        "    character_statistic = {}\n",
        "    for c in word:\n",
        "        # Set count to 1 if char not exists\n",
        "        if c not in character_statistic:\n",
        "            character_statistic[c] = 1\n",
        "        else: # Otherwise, increment by 1\n",
        "            character_statistic[c] += 1\n",
        "    return character_statistic\n",
        "\n",
        "def word_count(file_path):\n",
        "    counter = {}\n",
        "\n",
        "    with open(file_path, 'r') as f:\n",
        "        words = f.read().lower()\n",
        "    words = words.split()\n",
        "    \n",
        "    for word in words:\n",
        "        # Set 1 if word not exists\n",
        "        if word not in counter:\n",
        "            counter[word] = 1\n",
        "        else: # Otherwise, increment count by 1\n",
        "            counter[word] += 1\n",
        "\n",
        "    return counter\n",
        "\n",
        "def reverse_string(x):\n",
        "    return x[::-1]"
      ]
    },
    {
      "cell_type": "code",
      "execution_count": 3,
      "metadata": {},
      "outputs": [
        {
          "data": {
            "text/plain": [
              "{'H': 1, 'a': 1, 'p': 2, 'i': 1, 'n': 1, 'e': 1, 's': 2}"
            ]
          },
          "execution_count": 3,
          "metadata": {},
          "output_type": "execute_result"
        }
      ],
      "source": [
        "character_count('Happiness')"
      ]
    },
    {
      "cell_type": "code",
      "execution_count": 4,
      "metadata": {},
      "outputs": [
        {
          "name": "stdout",
          "output_type": "stream",
          "text": [
            "{'s': 2, 'm': 1, 'i': 1, 'l': 1, 'e': 1}\n"
          ]
        }
      ],
      "source": [
        "assert character_count('Baby') == {'B': 1, 'a': 1, 'b': 1, 'y': 1}\n",
        "print(character_count('smiles'))"
      ]
    },
    {
      "cell_type": "code",
      "execution_count": 5,
      "metadata": {},
      "outputs": [
        {
          "data": {
            "text/plain": [
              "'P1_data.txt'"
            ]
          },
          "execution_count": 5,
          "metadata": {},
          "output_type": "execute_result"
        }
      ],
      "source": [
        "import gdown\n",
        "\n",
        "url = 'https://drive.google.com/uc?id=1IBScGdW2xlNsc9v5zSAya548kNgiOrko'\n",
        "gdown.download(url, quiet=True)"
      ]
    },
    {
      "cell_type": "code",
      "execution_count": 6,
      "metadata": {},
      "outputs": [
        {
          "name": "stdout",
          "output_type": "stream",
          "text": [
            "6\n"
          ]
        }
      ],
      "source": [
        "file_path = 'P1_data.txt'\n",
        "result = word_count(file_path)\n",
        "assert result['who'] == 3\n",
        "print(result['man'])"
      ]
    },
    {
      "cell_type": "code",
      "execution_count": 7,
      "metadata": {},
      "outputs": [],
      "source": [
        "!rm P1_data.txt"
      ]
    },
    {
      "cell_type": "code",
      "execution_count": 8,
      "metadata": {},
      "outputs": [
        {
          "name": "stdout",
          "output_type": "stream",
          "text": [
            "tocirpa\n"
          ]
        }
      ],
      "source": [
        "x = 'I can do it'\n",
        "assert reverse_string(x) == 'ti od nac I'\n",
        "\n",
        "x = 'apricot'\n",
        "print(reverse_string(x))"
      ]
    }
  ],
  "metadata": {
    "anaconda-cloud": {},
    "kernelspec": {
      "display_name": "Python 3",
      "language": "python",
      "name": "python3"
    },
    "language_info": {
      "codemirror_mode": {
        "name": "ipython",
        "version": 3
      },
      "file_extension": ".py",
      "mimetype": "text/x-python",
      "name": "python",
      "nbconvert_exporter": "python",
      "pygments_lexer": "ipython3",
      "version": "3.10.14"
    }
  },
  "nbformat": 4,
  "nbformat_minor": 4
}

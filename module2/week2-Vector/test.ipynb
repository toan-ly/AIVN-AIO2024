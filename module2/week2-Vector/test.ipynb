{
 "cells": [
  {
   "cell_type": "code",
   "execution_count": 25,
   "metadata": {},
   "outputs": [],
   "source": [
    "import numpy as np\n",
    "from linear_algebra import LinearAlgebra as la\n",
    "from cosine_similarity import compute_cosine"
   ]
  },
  {
   "cell_type": "code",
   "execution_count": 5,
   "metadata": {},
   "outputs": [
    {
     "name": "stdout",
     "output_type": "stream",
     "text": [
      "23.28\n"
     ]
    }
   ],
   "source": [
    "vector = np.array([-2, 4, 9, 21])\n",
    "result = la.compute_vector_length([vector])\n",
    "print(round(result, 2))"
   ]
  },
  {
   "cell_type": "code",
   "execution_count": 7,
   "metadata": {},
   "outputs": [
    {
     "name": "stdout",
     "output_type": "stream",
     "text": [
      "4\n"
     ]
    }
   ],
   "source": [
    "v1 = np.array([0, 1, -1, 2])\n",
    "v2 = np.array([2, 5, 1, 0])\n",
    "print(round(la.compute_dot_product(v1, v2), 2))"
   ]
  },
  {
   "cell_type": "code",
   "execution_count": 8,
   "metadata": {},
   "outputs": [
    {
     "name": "stdout",
     "output_type": "stream",
     "text": [
      "result   \n",
      " [ 5 11]\n"
     ]
    }
   ],
   "source": [
    "x = np.array([[1, 2],\n",
    "              [3, 4]])\n",
    "k = np.array([1, 2])\n",
    "print('result   \\n', x.dot(k))"
   ]
  },
  {
   "cell_type": "code",
   "execution_count": 10,
   "metadata": {},
   "outputs": [
    {
     "name": "stdout",
     "output_type": "stream",
     "text": [
      "result   \n",
      " [ 3 -5]\n"
     ]
    }
   ],
   "source": [
    "x = np.array([[-1, 2],\n",
    "              [3, -4]])\n",
    "k = np.array([1, 2])\n",
    "print('result   \\n', x @ k)"
   ]
  },
  {
   "cell_type": "code",
   "execution_count": 11,
   "metadata": {},
   "outputs": [
    {
     "name": "stdout",
     "output_type": "stream",
     "text": [
      "[3 1]\n"
     ]
    }
   ],
   "source": [
    "m = np.array([[-1, 1, 1], \n",
    "              [0, -4, 9]])\n",
    "v = np.array([0, 2, 1])\n",
    "print(la.matrix_multi_vector(m, v))"
   ]
  },
  {
   "cell_type": "code",
   "execution_count": 12,
   "metadata": {},
   "outputs": [
    {
     "name": "stdout",
     "output_type": "stream",
     "text": [
      "[[  6  -1]\n",
      " [-16 -10]]\n"
     ]
    }
   ],
   "source": [
    "m1 = np.array([[0, 1, 2], \n",
    "               [2, -3, 1]])\n",
    "m2 = np.array([[1, -3],\n",
    "               [6, 1],\n",
    "               [0, -1]])\n",
    "print(la.matrix_multi_matrix(m1, m2))"
   ]
  },
  {
   "cell_type": "code",
   "execution_count": 15,
   "metadata": {},
   "outputs": [
    {
     "name": "stdout",
     "output_type": "stream",
     "text": [
      "[[1. 1. 1.]\n",
      " [2. 2. 2.]\n",
      " [3. 3. 3.]]\n"
     ]
    }
   ],
   "source": [
    "m1 = np.eye(3)\n",
    "m2 = np.array([[1, 1, 1],\n",
    "               [2, 2, 2], \n",
    "               [3, 3, 3]])\n",
    "print(m1 @ m2)"
   ]
  },
  {
   "cell_type": "code",
   "execution_count": 20,
   "metadata": {},
   "outputs": [
    {
     "name": "stdout",
     "output_type": "stream",
     "text": [
      "[5. 5. 5. 5.]\n"
     ]
    }
   ],
   "source": [
    "m1 = np.eye(2)\n",
    "m1 = np.reshape(m1, (-1, 4))[0]\n",
    "m2 = np.array([[1, 1, 1, 1], \n",
    "               [2, 2, 2, 2], \n",
    "               [3, 3, 3, 3],\n",
    "               [4, 4, 4, 4]])\n",
    "print(m1 @ m2)"
   ]
  },
  {
   "cell_type": "code",
   "execution_count": 22,
   "metadata": {},
   "outputs": [
    {
     "name": "stdout",
     "output_type": "stream",
     "text": [
      "[29 29 29 29]\n"
     ]
    }
   ],
   "source": [
    "m1 = np.array([[1, 2], [3, 4]])\n",
    "m1 = np.reshape(m1, (-1, 4), \"F\")[0]\n",
    "m2 = np.array([[1, 1, 1, 1], [2, 2, 2, 2], [3, 3, 3, 3], [4, 4, 4, 4]])\n",
    "result = m1 @ m2\n",
    "print(result)"
   ]
  },
  {
   "cell_type": "code",
   "execution_count": 23,
   "metadata": {},
   "outputs": [
    {
     "name": "stdout",
     "output_type": "stream",
     "text": [
      "[[0.1  0.15]\n",
      " [0.2  0.05]]\n"
     ]
    }
   ],
   "source": [
    "m1 = np.array([[-2, 6], [8, -4]])\n",
    "result = la.inverse_matrix(m1)\n",
    "print(result)"
   ]
  },
  {
   "cell_type": "markdown",
   "metadata": {},
   "source": [
    "$$\n",
    "A = \n",
    "\\begin{bmatrix} \n",
    "0.9 & 0.2 \\\\ \n",
    "0.1 & 0.8 \\\n",
    "\\end{bmatrix}\n",
    "$$\n",
    "\n",
    "## Eigenvalues:\n",
    "\n",
    "$$det(A - \\lambda I) = 0$$\n",
    "\n",
    "$$\n",
    "\\begin{bmatrix} \n",
    "0.9 - \\lambda & 0.2 \\\\ \n",
    "0.1 & 0.8 - \\lambda \n",
    "\\end{bmatrix} = 0\n",
    "$$\n",
    "\n",
    "$$(0.9 - \\lambda)(0.8 - \\lambda) - 0.02 = 0$$\n",
    "\n",
    "$$\\lambda_1 = 0.7, \\lambda_2 = 1$$\n",
    "\n",
    "## Eigenvectors:\n",
    "For $\\lambda_1 = 0.7$:\n",
    "\n",
    "$$(A - \\lambda I)v = 0$$\n",
    "\n",
    "$$\n",
    "\\begin{bmatrix} \n",
    "0.9 - 0.7 & 0.2 \\\\ \n",
    "0.1 & 0.8 - 0.7 \n",
    "\\end{bmatrix} \n",
    "\\begin{bmatrix} \n",
    "v_1 \\\\ v_2 \n",
    "\\end{bmatrix} = 0 \n",
    "$$\n",
    "\n",
    "$$\n",
    "\\begin{bmatrix} \n",
    "0.2 & 0.2 \\\\ \n",
    "0.1 & 0.1 \n",
    "\\end{bmatrix} \n",
    "\\begin{bmatrix} \n",
    "v_1 \\\\ v_2 \n",
    "\\end{bmatrix} = 0 \n",
    "$$\n",
    "\n",
    "$$\n",
    "\\begin{bmatrix} 0.2 \\\\ 0.1 \\end{bmatrix} v_1 + \n",
    "\\begin{bmatrix} 0.2 \\\\ 0.1 \\end{bmatrix} v_2 = 0\n",
    "$$\n",
    "\n",
    "$$v_1=-v_2$$\n",
    "Therefore, eigenvector corresponding to $\\lambda_1 = 0.7$ is:\\\n",
    "$v_1 = \\begin{bmatrix} -1 \\\\ 1 \\end{bmatrix}$\n",
    "\n",
    "\n",
    "For $\\lambda_2 = 1$:\n",
    "$$(A - \\lambda I)v = 0$$\n",
    "\n",
    "$$\n",
    "\\begin{bmatrix} \n",
    "0.9 - 1 & 0.2 \\\\ \n",
    "0.1 & 0.8 - 1 \n",
    "\\end{bmatrix} \n",
    "\\begin{bmatrix} \n",
    "v_1 \\\\ v_2 \n",
    "\\end{bmatrix} = 0 \n",
    "$$\n",
    "\n",
    "$$\n",
    "\\begin{bmatrix} \n",
    "-0.1 & 0.2 \\\\ \n",
    "0.1 & -0.2 \n",
    "\\end{bmatrix} \n",
    "\\begin{bmatrix} \n",
    "v_1 \\\\ v_2 \n",
    "\\end{bmatrix} = 0 \n",
    "$$\n",
    "\n",
    "$$\n",
    "\\begin{bmatrix} -0.1 \\\\ 0.1 \\end{bmatrix} v_1 + \n",
    "\\begin{bmatrix} 0.2 \\\\ -0.2 \\end{bmatrix} v_2 = 0\n",
    "$$\n",
    "\n",
    "$$v_1=2v_2$$\n",
    "Therefore, eigenvector corresponding to $\\lambda_2 = 1$ is:\\\n",
    "$v_2 = \\begin{bmatrix} 2 \\\\ 1 \\end{bmatrix}$\n",
    "\n",
    "## Normalize:\n",
    "$\\lambda_1 = 0.7, \\ v_1 = \\frac{1}{\\sqrt{2}} \\begin{bmatrix} -1 \\\\ 1 \\end{bmatrix} = \\begin{bmatrix} -0.707 \\\\ 0.707 \\end{bmatrix}$\n",
    "\n",
    "\n",
    "$\\lambda_2 = 1, \\ v_2 = \\frac{1}{\\sqrt{5}} \\begin{bmatrix} 2 \\\\ 1 \\end{bmatrix} = \\begin{bmatrix} 0.894 \\\\ 0.447 \\end{bmatrix}$\n",
    "\n",
    "$v = \n",
    "\\begin{bmatrix} \n",
    "-0.707 & 0.894 \\\\\n",
    "0.707 & 0.447 \\end{bmatrix}\n",
    "$"
   ]
  },
  {
   "cell_type": "code",
   "execution_count": 24,
   "metadata": {},
   "outputs": [
    {
     "name": "stdout",
     "output_type": "stream",
     "text": [
      "[[ 0.89442719 -0.70710678]\n",
      " [ 0.4472136   0.70710678]]\n"
     ]
    }
   ],
   "source": [
    "matrix = np.array([[0.9, 0.2], [0.1, 0.8]])\n",
    "eigenvalues, eigenvectors = la.compute_eigenvalues_eigenvectors(matrix)\n",
    "print(eigenvectors)"
   ]
  },
  {
   "cell_type": "markdown",
   "metadata": {},
   "source": [
    "$x = \\begin{bmatrix} 1\\\\2\\\\3\\\\4\\end{bmatrix}, \\ y = \\begin{bmatrix} 1\\\\0\\\\3\\\\0\\end{bmatrix}$\n",
    "\n",
    "## Cosine Similarity\n",
    "$x \\cdot y = 1\\cdot1+2\\cdot0+3\\cdot3+4\\cdot0 = 10$\\\n",
    "$\\|x\\| = \\sqrt{1^2 + 2^2 + 3^2 + 4^2} = \\sqrt{1 + 4 + 9 + 16} = \\sqrt{30}$\n",
    "\n",
    "$\\|y\\| = \\sqrt{1^2 + 0^2 + 3^2 + 0^2} = \\sqrt{1 + 0 + 9 + 0} = \\sqrt{10}$\n",
    "\n",
    "$cs(x, y) = \\frac{x \\cdot y}{||x||||y||} = \\frac{10}{\\sqrt{30}\\sqrt{10}} = 0.577$"
   ]
  },
  {
   "cell_type": "code",
   "execution_count": 26,
   "metadata": {},
   "outputs": [
    {
     "name": "stdout",
     "output_type": "stream",
     "text": [
      "0.577\n"
     ]
    }
   ],
   "source": [
    "x = np.array([1, 2, 3, 4])\n",
    "y = np.array([1, 0, 3, 0])\n",
    "result = compute_cosine(x, y)\n",
    "print(round(result, 3))"
   ]
  }
 ],
 "metadata": {
  "kernelspec": {
   "display_name": "aio2024_env",
   "language": "python",
   "name": "python3"
  },
  "language_info": {
   "codemirror_mode": {
    "name": "ipython",
    "version": 3
   },
   "file_extension": ".py",
   "mimetype": "text/x-python",
   "name": "python",
   "nbconvert_exporter": "python",
   "pygments_lexer": "ipython3",
   "version": "3.10.14"
  }
 },
 "nbformat": 4,
 "nbformat_minor": 2
}
